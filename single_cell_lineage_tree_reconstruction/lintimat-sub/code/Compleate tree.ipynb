{
 "cells": [
  {
   "cell_type": "code",
   "execution_count": null,
   "id": "0fa8f906-ee59-40a6-ad94-9888131a5b19",
   "metadata": {
    "tags": []
   },
   "outputs": [],
   "source": [
    "import matplotlib.pyplot as plt\n",
    "import numpy as np\n",
    "import pandas as pd\n",
    "import scanpy as sc\n",
    "import visualize_tree\n",
    "from ete3 import Tree"
   ]
  },
  {
   "cell_type": "code",
   "execution_count": null,
   "id": "afcc17d0-3fb7-4d09-9dc0-3e5155be00d4",
   "metadata": {
    "tags": []
   },
   "outputs": [],
   "source": [
    "hbc_mito_path = \"../input/hbc_mito.h5ad\"\n",
    "cell_map_type_path = \"../../Data/Embryo 1/annotation_main_new3.csv\"\n",
    "no_of_sub_clusters = 14"
   ]
  },
  {
   "cell_type": "code",
   "execution_count": null,
   "id": "62175398-fb38-4f66-99bd-bf87d1cb078e",
   "metadata": {
    "tags": []
   },
   "outputs": [],
   "source": [
    "def avg_mutation_profile(adata, obs_col=\"leiden\"):\n",
    "    \"\"\"\n",
    "    get the average mutation profile for each cluster using the column mentioned\n",
    "    with an aditional normal added.\n",
    "    \"\"\"\n",
    "    avg_mut = pd.DataFrame(\n",
    "        np.zeros((len(adata.obs[obs_col].unique()), len(adata.var_names))),\n",
    "        index=sorted(adata.obs[\"leiden\"].unique().tolist()),\n",
    "        columns=adata.var_names,\n",
    "    )\n",
    "    for cluster in adata.obs[\"leiden\"].unique():\n",
    "        avg_mut.loc[cluster, :] = adata[adata.obs[\"leiden\"] == cluster].X.mean(axis=0)\n",
    "    return avg_mut\n",
    "\n",
    "\n",
    "def generate_lintimat_data(avg_mut_01):\n",
    "    mut = avg_mut_01.astype(int).astype(str)\n",
    "    le_name_mapping_dict = dict(\n",
    "        zip(mut.columns.to_list(), list(range(len(mut.columns))))\n",
    "    )\n",
    "    le_name_mapping = list(zip(mut.columns.to_list(), list(range(len(mut.columns)))))\n",
    "    pd.DataFrame(le_name_mapping).to_csv(\n",
    "        \"../input/backbone_tree/mutation_mapping.txt\",\n",
    "        sep=\"\\t\",\n",
    "        header=False,\n",
    "        index=False,\n",
    "    )\n",
    "\n",
    "    for i in range(mut.shape[0]):\n",
    "        for j in range(mut.shape[1]):\n",
    "            if mut.iloc[i][j] == \"0\":\n",
    "                mut.iloc[i][j] = \"NONE\"\n",
    "            elif mut.iloc[i][j] == \"1\":\n",
    "                mut.iloc[i][j] = le_name_mapping_dict[mut.columns[j]]\n",
    "            else:\n",
    "                print(mut.iloc[i][j], \"error\")\n",
    "\n",
    "    mutations = mut.astype(str).apply(\"-\".join, axis=1)\n",
    "    mutations = pd.DataFrame(mutations, columns=[\"HMID\"])\n",
    "    mutations.to_csv(\n",
    "        \"../input/backbone_tree/cell_mutation_mapping.txt\",\n",
    "        sep=\"\\t\",\n",
    "        header=False,\n",
    "        index=True,\n",
    "    )\n",
    "\n",
    "    df = pd.DataFrame(np.zeros((mutations.shape[0], 2000)), index=mutations.index)\n",
    "    df[\"ClusterIdent\"] = df.index\n",
    "\n",
    "    df = pd.concat([df, mutations], axis=1, join=\"inner\")\n",
    "    temp = df[[\"ClusterIdent\", \"HMID\"]]\n",
    "    df = df.drop([\"ClusterIdent\", \"HMID\"], axis=1)\n",
    "    df = pd.concat([temp, df], axis=1, join=\"inner\")\n",
    "    df.index.name = \"Cells\"\n",
    "\n",
    "    top2000 = pd.DataFrame(range(2000))\n",
    "    top2000.to_csv(\n",
    "        \"../input/backbone_tree/top2000.txt\", sep=\"\\t\", index=False, header=False\n",
    "    )\n",
    "\n",
    "    lintimat_format = df\n",
    "    clusters_to_numbers = pd.DataFrame(\n",
    "        enumerate(lintimat_format[\"ClusterIdent\"].astype(\"category\").cat.categories)\n",
    "    )\n",
    "    lintimat_format[\"ClusterIdent\"] = (\n",
    "        lintimat_format[\"ClusterIdent\"].astype(\"category\").cat.codes\n",
    "    )\n",
    "\n",
    "    lintimat_format.to_csv(\n",
    "        \"../input/backbone_tree/Data_matrix_Comb_final2_for_lintimat.txt\", sep=\"\\t\"\n",
    "    )\n",
    "    clusters_to_numbers.to_csv(\n",
    "        \"../input/backbone_tree/lintimat_cell_type_map.txt\",\n",
    "        sep=\"\\t\",\n",
    "        index=False,\n",
    "        header=False,\n",
    "    )\n",
    "    lintimat_format.iloc[:, :2].to_csv(\n",
    "        \"../input/backbone_tree/lintimat_txt_label_HMID.txt\", sep=\"\\t\"\n",
    "    )\n",
    "\n",
    "\n",
    "def get_mutation_all(mutation, mutation_map_names):\n",
    "    mutation_all = list()\n",
    "    if mutation == \"\":\n",
    "        return [set([\"NONE\"]) for i in range(len(mutation_map_names))]\n",
    "    for mut in mutation.split(\"-\"):\n",
    "        if mut == \"NONE\":\n",
    "            mutation_all.append(set([\"NONE\"]))\n",
    "        else:\n",
    "            mutation_all.append(set([mutation_map_names[int(mut)]]))\n",
    "    return mutation_all\n",
    "\n",
    "\n",
    "def add_attributes(tree, cell_map_mutation):\n",
    "    if tree is not None:\n",
    "        if not hasattr(add_attributes, \"thisid\"):\n",
    "            add_attributes.thisid = 0\n",
    "        add_attributes.thisid += 1\n",
    "        mutation = \"\"\n",
    "        mutation_all = [set([\"NONE\"]) for i in range(len(mutation_map_names))]\n",
    "        name = tree.name\n",
    "        if name in cell_map_mutation.keys():\n",
    "            tree.name = name\n",
    "            mutation = cell_map_mutation[name]\n",
    "            mutation_all = get_mutation_all(mutation, mutation_map_names)\n",
    "        if name == \"normal\":\n",
    "            mutation = 0 * len(mutation_map_names)\n",
    "        tree.add_features(\n",
    "            **{\n",
    "                \"id\": \"i\" + str(add_attributes.thisid),\n",
    "                \"mutation\": mutation,\n",
    "                \"mutation_all\": mutation_all,  # important\n",
    "                \"mutation_diff\": \"NONE\",\n",
    "            }\n",
    "        )\n",
    "        for child in tree.children:\n",
    "            add_attributes(child, cell_map_mutation)\n",
    "\n",
    "\n",
    "def order_tree(tree):\n",
    "    if tree is not None:\n",
    "        tree.children = sorted(\n",
    "            tree.children,\n",
    "            key=lambda x: [len(x.get_leaf_names()), len(x.get_descendants())],\n",
    "        )\n",
    "        for child in tree.children:\n",
    "            order_tree(child)\n",
    "\n",
    "\n",
    "def make_normal_as_root(tree):\n",
    "    normal = tree.search_nodes(name=\"normal\")\n",
    "    tree.set_outgroup(normal[0])"
   ]
  },
  {
   "cell_type": "code",
   "execution_count": null,
   "id": "946c0021-9679-470d-90b2-042411c977c8",
   "metadata": {
    "tags": []
   },
   "outputs": [],
   "source": [
    "def top_mutations_gt9(adata):\n",
    "    mutations_gt9_sub_cluster = []\n",
    "    for cluster in adata.obs[\"leiden\"].unique():\n",
    "        adata_sub = adata[adata.obs[\"leiden\"] == cluster]\n",
    "        data = pd.DataFrame(\n",
    "            adata_sub.X,\n",
    "            index=adata_sub.obs_names,\n",
    "            columns=adata_sub.var_names,\n",
    "            dtype=int,\n",
    "        )\n",
    "        data = data.loc[:, data.sum() > 9]\n",
    "        mutations_gt9_sub_cluster.extend(list(data.columns))\n",
    "    return mutations_gt9_sub_cluster"
   ]
  },
  {
   "cell_type": "markdown",
   "id": "f227f970-83fa-4339-a220-b8735a099c91",
   "metadata": {
    "jp-MarkdownHeadingCollapsed": true,
    "tags": []
   },
   "source": [
    "# create backbone tree"
   ]
  },
  {
   "cell_type": "code",
   "execution_count": null,
   "id": "795d0b52-79f7-4c93-982d-2d9f64bb08d7",
   "metadata": {
    "tags": []
   },
   "outputs": [],
   "source": [
    "adata = sc.read_h5ad(hbc_mito_path)\n",
    "avg_mut = avg_mutation_profile(adata, \"leiden\")\n",
    "top_mutations = top_mutations_gt9(adata)\n",
    "top_mutations = top_mutations\n",
    "avg_mut = avg_mut.loc[:, top_mutations]"
   ]
  },
  {
   "cell_type": "code",
   "execution_count": null,
   "id": "39270b42-d5dc-4ee2-8309-c515c49d3aa6",
   "metadata": {
    "tags": []
   },
   "outputs": [],
   "source": [
    "avg_mut.to_csv(\n",
    "    \"../input/backbone_tree/average_frequency_cluster_mutations.txt\", sep=\"\\t\"\n",
    ")"
   ]
  },
  {
   "cell_type": "code",
   "execution_count": null,
   "id": "fe82cd65-e6e6-46fb-b181-4cfa6e214e53",
   "metadata": {},
   "outputs": [],
   "source": [
    "n, bins, patches = plt.hist(avg_mut.values.flatten(), bins=200)\n",
    "plt.show()\n",
    "fig = plt.figure(figsize=(50, 10))\n",
    "n, bins, patches = plt.hist(avg_mut.values.flatten(), bins=200)\n",
    "plt.ylim(0, 40)\n",
    "plt.xlim(0, 0.5)\n",
    "plt.xticks(bins[bins < 0.5], rotation=90, fontsize=30)\n",
    "plt.show()"
   ]
  },
  {
   "cell_type": "code",
   "execution_count": null,
   "id": "414d3c2c-0aa3-4693-aa7b-c843bc3ab82a",
   "metadata": {},
   "outputs": [],
   "source": [
    "threshold = 0.05  # select the threshold using which average mutations are converted into binary (based on the above plot)\n",
    "avg_mut_01 = avg_mut.copy()\n",
    "avg_mut_01[avg_mut_01 < threshold] = 0\n",
    "avg_mut_01[avg_mut_01 > threshold] = 1\n",
    "generate_lintimat_data(avg_mut_01)"
   ]
  },
  {
   "cell_type": "code",
   "execution_count": null,
   "id": "60e98298-7f04-4374-8927-b297b2715401",
   "metadata": {
    "tags": []
   },
   "outputs": [],
   "source": [
    "os.system(\"date >  ../output/backbone_tree/terminal_output.txt\")\n",
    "os.system(\n",
    "    \"java -jar ./LinTIMaT.jar -i ../input/backbone_tree/Data_matrix_Comb_final2_for_lintimat.txt\\\n",
    "    -gf ../input/backbone_tree/top2000.txt \\\n",
    "    -gc 2000 \\\n",
    "    -ob ../output/backbone_tree/bin_tree.newick \\\n",
    "    -on ../output/backbone_tree/nonbinary_tree.txt \\\n",
    "     -mi 200000 -ci 0 -s 9126 >> ../output/backbone_tree/terminal_output.txt\"\n",
    ")\n",
    "\n",
    "os.system(\"date >> ../output/backbone_tree/terminal_output.txt\")\n",
    "# !date > terminal_output.txt\n",
    "# !java -jar /home/krushna/Documents/Lineage/Lintimat/LinTIMaT.jar -i ./Data_matrix_Comb_final2_for_lintimat.txt \\\n",
    "#  -gf ./top2000.txt \\\n",
    "#   -gc 2000 \\\n",
    "#    -ob ./bin_tree.newick \\\n",
    "#     -on ./nonbinary_tree.txt \\\n",
    "#      -mi 200000 -ci 0 -s 1 >> ./terminal_output.txt \n",
    "# !date >> terminal_output.txt"
   ]
  },
  {
   "cell_type": "code",
   "execution_count": null,
   "id": "fc10d721-c1cf-4a4b-b1ef-842a4720bb18",
   "metadata": {
    "tags": []
   },
   "outputs": [],
   "source": [
    "tree = Tree(\"../output/backbone_tree/bin_tree.newick\", format=1)\n",
    "visualize_tree.add_parent_to_leafs(tree)\n",
    "make_normal_as_root(tree)\n",
    "cell_map_mutation = pd.read_csv('../input/backbone_tree/cell_mutation_mapping.txt', sep='\\t',header=None, dtype=str)\n",
    "cell_map_mutation.append([['normal','-'.join(['NONE']*len(cell_map_mutation.iloc[0,1].split('-')))]])\n",
    "cell_map_mutation = {row[0]:row[1] for i, row in cell_map_mutation.iterrows()}\n",
    "mutation_map_names = pd.read_csv('../input/backbone_tree/mutation_mapping.txt', header=None,sep='\\t')[0].to_list()\n",
    "add_attributes(tree, cell_map_mutation)\n",
    "visualize_tree.build_mutations_set(tree)\n",
    "visualize_tree.finalize_mutation(tree)\n",
    "visualize_tree.remove_non_mutation_branches(tree)\n",
    "visualize_tree.add_mutation_diff(tree)\n",
    "order_tree(tree)\n",
    "tree.write(outfile='../output/backbone_tree/backbone_tree.txt',format=1)\n"
   ]
  },
  {
   "cell_type": "code",
   "execution_count": null,
   "id": "12773bda-5b4c-4757-afd5-1f36df7168a7",
   "metadata": {},
   "outputs": [],
   "source": [
    "tree.show()\n",
    "del tree"
   ]
  },
  {
   "cell_type": "markdown",
   "id": "650cb90f-0027-4011-ad18-a0dd2d0c665c",
   "metadata": {
    "tags": []
   },
   "source": [
    "# compleate tree"
   ]
  },
  {
   "cell_type": "code",
   "execution_count": null,
   "id": "fb8ea00d-8a62-4d25-aea4-b38ae3a5d9e7",
   "metadata": {
    "tags": []
   },
   "outputs": [],
   "source": [
    "backbone_tree_path = '../output/backbone_tree/backbone_tree.txt'\n",
    "cell_type_map_color_path = \"../input/celltype_map_color.txt\""
   ]
  },
  {
   "cell_type": "code",
   "execution_count": null,
   "id": "d964644f-d231-4563-a8af-f2e04d328d43",
   "metadata": {
    "tags": []
   },
   "outputs": [],
   "source": [
    "backbone_tree = Tree(backbone_tree_path,format=1)"
   ]
  },
  {
   "cell_type": "code",
   "execution_count": null,
   "id": "a1abcfd2-1672-455c-b716-7c4e3a94ed7d",
   "metadata": {
    "tags": []
   },
   "outputs": [],
   "source": [
    "def compleate_leaf_trees(backbone_tree, no_of_sub_clusters):\n",
    "    sub_cluster_folders = \"../sub_clusters/\"\n",
    "    for cluster in range(no_of_sub_clusters):\n",
    "        if os.path.exists(f'{sub_cluster_folders}{cluster}/output/non_binary_ete3.txt'):\n",
    "            tree = Tree(f'{sub_cluster_folders}{cluster}/output/non_binary_ete3.txt',format = 1)\n",
    "            t_normal = tree&'normal' #search normal\n",
    "            tree.remove_child(t_normal)\n",
    "            if len(tree.children) == 1:\n",
    "                tree = tree.children[0]\n",
    "            attach_to = backbone_tree&cluster\n",
    "            for subtree_child in tree.children:\n",
    "                attach_to.up.add_child(subtree_child)\n",
    "            attach_to.up.remove_child(attach_to)\n",
    "        else:\n",
    "            print(f'no tree for cluster {cluster}, adding all cells as leafs')\n",
    "            attach_to = backbone_tree&cluster\n",
    "            cells = pd.read_csv(f'{sub_cluster_folders}{cluster}/input/cell_mutation_mapping.txt',sep='\\t',header=None)[0]\n",
    "            for cell in cells:\n",
    "                attach_to.up.add_child(Tree(name=cell))\n",
    "            attach_to.up.remove_child(attach_to)\n",
    "\n",
    "def add_annotation(tree, cell_map_type_path, cell_type_map_color_path):\n",
    "    cell_map_type = pd.read_csv(cell_map_type_path, sep=\",\")\n",
    "    cell_map_type = {row[0]: row[1] for _, row in cell_map_type.iterrows()}\n",
    "    cell_type_map_color = pd.read_csv(\n",
    "            cell_type_map_color_path, sep='\\t', header=0, index_col=0)\n",
    "    cell_type_map_color = {row[0]: '#'+row[1]\n",
    "                            for _, row in cell_type_map_color.iterrows()}\n",
    "\n",
    "    for node in tree.traverse():\n",
    "        name = node.name\n",
    "\n",
    "        cell_type = cell_map_type.get(name,None)\n",
    "        nodecolor = cell_type_map_color.get(cell_type, '#FFFFFF')\n",
    "        node.add_features(**{\"cell_type\": cell_type,\n",
    "                             \"nodecolor\": nodecolor\n",
    "                             })"
   ]
  },
  {
   "cell_type": "code",
   "execution_count": null,
   "id": "42da8fc5-d9d2-4e46-ad65-38b4a0d73abf",
   "metadata": {
    "tags": []
   },
   "outputs": [],
   "source": [
    "compleate_leaf_trees(backbone_tree, no_of_sub_clusters)\n",
    "add_annotation(backbone_tree, cell_map_type_path, cell_type_map_color_path)"
   ]
  },
  {
   "cell_type": "code",
   "execution_count": null,
   "id": "fb8a2bb3-a062-48dc-b4d5-647de395d3f0",
   "metadata": {
    "tags": []
   },
   "outputs": [],
   "source": [
    "cell_type_map_color = pd.read_csv(\n",
    "    cell_type_map_color_path, sep=\"\\t\", header=0, index_col=0\n",
    ")\n",
    "cell_type_map_color = {\n",
    "    row[0]: \"#\" + row[1] for _, row in cell_type_map_color.iterrows()\n",
    "}\n",
    "\n",
    "cwd = os.getcwd() + \"/\"\n",
    "\n",
    "order_tree(backbone_tree)\n",
    "\n",
    "\n",
    "# tree_sll = backbone_tree.copy(method=\"deepcopy\")\n",
    "# ts_sll = visualize_tree.style(\n",
    "#     tree_sll,\n",
    "#     cell_type_map_color,\n",
    "#     cwd + \"../\",\n",
    "#     is_circular=True,\n",
    "#     is_same_level_leaf=True,\n",
    "# )\n",
    "\n",
    "\n",
    "ts = visualize_tree.style(\n",
    "    backbone_tree,\n",
    "    cell_type_map_color,\n",
    "    cwd + \"../output/\",\n",
    "    is_circular=True,\n",
    "    is_same_level_leaf=False,\n",
    ")"
   ]
  },
  {
   "cell_type": "code",
   "execution_count": null,
   "id": "2a8fd27f-7356-4a4c-a101-3270a4bae035",
   "metadata": {
    "tags": []
   },
   "outputs": [],
   "source": [
    "backbone_tree.show(tree_style = ts)"
   ]
  },
  {
   "cell_type": "code",
   "execution_count": null,
   "id": "83288174-31b7-4d0a-b225-f3823dd2c9b1",
   "metadata": {
    "tags": []
   },
   "outputs": [],
   "source": [
    "backbone_tree.render(\n",
    "    \"../output/compleate_tree_ete3.pdf\", w=10000, units=\"px\", dpi=500, tree_style=ts\n",
    ")\n",
    "visualize_tree.del_pie_local(cwd + \"../output/\")"
   ]
  },
  {
   "cell_type": "code",
   "execution_count": null,
   "id": "0dc951ee-7d9a-4857-80cb-726a8cd6233f",
   "metadata": {},
   "outputs": [],
   "source": []
  }
 ],
 "metadata": {
  "kernelspec": {
   "display_name": "Python 3 (ipykernel)",
   "language": "python",
   "name": "python3"
  },
  "language_info": {
   "codemirror_mode": {
    "name": "ipython",
    "version": 3
   },
   "file_extension": ".py",
   "mimetype": "text/x-python",
   "name": "python",
   "nbconvert_exporter": "python",
   "pygments_lexer": "ipython3",
   "version": "3.7.11"
  }
 },
 "nbformat": 4,
 "nbformat_minor": 5
}
