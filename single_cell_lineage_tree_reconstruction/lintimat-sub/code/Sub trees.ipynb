{
 "cells": [
  {
   "cell_type": "code",
   "execution_count": null,
   "id": "00cff70c-9a7a-4c05-91c5-b06fb4a60097",
   "metadata": {
    "tags": []
   },
   "outputs": [],
   "source": [
    "import colorsys\n",
    "import math\n",
    "import os\n",
    "import shutil\n",
    "\n",
    "import anndata\n",
    "import distinctipy\n",
    "import matplotlib\n",
    "import numpy as np\n",
    "import pandas as pd\n",
    "import scanpy as sc\n",
    "from sklearn import preprocessing"
   ]
  },
  {
   "cell_type": "code",
   "execution_count": null,
   "id": "a95ae4dd-7b6a-4fbe-b91b-b4bac2805b44",
   "metadata": {
    "tags": []
   },
   "outputs": [],
   "source": [
    "save_folder = \"../input/\"\n",
    "\n",
    "hbc_path = \"../../Data/Embryo 1/hbc_mut_embryo1.txt\"\n",
    "mito_path = \"../../Data/Embryo 1/mito_mut_embryo1_0.6.txt\"\n",
    "cell_map_type_path = \"../../Data/Embryo 1/annotation_main_new3.csv\"\n",
    "rna_path = \"../../Data/Embryo 1/concat.h5ad\""
   ]
  },
  {
   "cell_type": "markdown",
   "id": "b870470b-103c-45b4-8748-7507ba3d3585",
   "metadata": {
    "tags": []
   },
   "source": [
    "# pre process hbc mito"
   ]
  },
  {
   "cell_type": "code",
   "execution_count": null,
   "id": "00e4fc18-ae83-4ef3-8f59-65f75b659b8c",
   "metadata": {
    "tags": []
   },
   "outputs": [],
   "source": [
    "# input hbc and mito file formats\n",
    "# cells * mutations"
   ]
  },
  {
   "cell_type": "code",
   "execution_count": null,
   "id": "8a54c70b-3a25-4fa6-b07f-65f7a27f8ae8",
   "metadata": {
    "tags": []
   },
   "outputs": [],
   "source": [
    "# hbc of embryo1\n",
    "hbc = pd.read_csv(hbc_path, header=0, sep=\"\\t\", index_col=0)\n",
    "# regex = \".*-7938-3|.*-7995-1\"\n",
    "# hbc = hbc[hbc.index.str.match(regex)]\n",
    "\n",
    "# remove mutations present only in <=1 cells. Remove cells which do not contain mutation\n",
    "hbc = hbc.loc[:, hbc.sum() > 1]\n",
    "hbc = hbc[hbc.sum(axis=1) > 0]\n",
    "hbc.to_csv(save_folder + \"hbc_mut.txt\", sep=\"\\t\", index=True)"
   ]
  },
  {
   "cell_type": "code",
   "execution_count": null,
   "id": "3da26f36-6541-4cb3-9474-76137a37ce95",
   "metadata": {
    "tags": []
   },
   "outputs": [],
   "source": [
    "# mito of embyro1\n",
    "mito = pd.read_csv(mito_path, header=0, sep=\"\\t\", index_col=0)\n",
    "# regex = \".*-7938-3|.*-7995-1\"\n",
    "# mito = mito[mito.index.str.match(regex)]\n",
    "\n",
    "# remove mutations present only in <=1 cells. Remove cells which do not contain mutation\n",
    "mito = mito.loc[:, mito.sum() > 1]\n",
    "mito = mito[mito.sum(axis=1) > 0]"
   ]
  },
  {
   "cell_type": "code",
   "execution_count": null,
   "id": "88220be0-8a24-4035-9e9a-50260c078acd",
   "metadata": {
    "tags": []
   },
   "outputs": [],
   "source": [
    "# choose the threshold 0.6 for embryo1\n",
    "\n",
    "(mito.sum() / mito.shape[0] * 100).sort_values().plot.bar(\n",
    "    figsize=(20, 8),\n",
    "    title=\"Mtio embryo1 mutions vs percentage of cells\" + str(mito.shape),\n",
    "    xlabel=\"mutaion name\",\n",
    "    ylabel=\"% of cells\",\n",
    ")"
   ]
  },
  {
   "cell_type": "code",
   "execution_count": null,
   "id": "c92ebeea-9681-441a-9bb1-9ba2193d9f74",
   "metadata": {
    "tags": []
   },
   "outputs": [],
   "source": [
    "threshold = 0.6  # need to be selected"
   ]
  },
  {
   "cell_type": "code",
   "execution_count": null,
   "id": "4b42f484-0a57-40bd-94d8-1531dd384cfc",
   "metadata": {
    "tags": []
   },
   "outputs": [],
   "source": [
    "mito_threshold = mito.loc[:, (mito.sum() / mito.shape[0] * 100) < threshold]\n",
    "mito_threshold = mito_threshold.loc[mito_threshold.sum(axis=1) > 0, :]\n",
    "mito_threshold\n",
    "\n",
    "mito_threshold.to_csv(save_folder + \"mito_mut.txt\", sep=\"\\t\", index=True)"
   ]
  },
  {
   "cell_type": "markdown",
   "id": "c64e54b2-fa9b-4116-837f-4270f4b3d57b",
   "metadata": {
    "tags": []
   },
   "source": [
    "# RNA process"
   ]
  },
  {
   "cell_type": "code",
   "execution_count": null,
   "id": "fabd1542-b3b0-4436-9664-70508efe5da2",
   "metadata": {
    "tags": []
   },
   "outputs": [],
   "source": [
    "# process RNA as required for lintimat"
   ]
  },
  {
   "cell_type": "code",
   "execution_count": null,
   "id": "5bc929c3-dd76-43a9-901e-8b5fb07232c9",
   "metadata": {
    "tags": []
   },
   "outputs": [],
   "source": [
    "adata = sc.read_h5ad(rna_path)\n",
    "adata_sce = adata.copy()"
   ]
  },
  {
   "cell_type": "code",
   "execution_count": null,
   "id": "1888b46c-1b64-4cf9-873c-865759dd476f",
   "metadata": {
    "tags": []
   },
   "outputs": [],
   "source": [
    "import anndata2ri\n",
    "\n",
    "anndata2ri.activate()\n",
    "%load_ext rpy2.ipython"
   ]
  },
  {
   "cell_type": "code",
   "execution_count": null,
   "id": "4a24a257-85d2-4ad5-8925-fca28d992480",
   "metadata": {},
   "outputs": [],
   "source": [
    "%%R -i adata_sce -o X_imp -o cell_names -o gene_names\n",
    "library(Seurat)\n",
    "library(DrImpute)\n",
    "library(SummarizedExperiment)\n",
    "\n",
    "X <- assays(adata_sce)$X\n",
    "cell_names = colnames(X)\n",
    "X <- preprocessSC(X, min.expressed.gene = 0)\n",
    "X.log <- log(X + 1)\n",
    "set.seed(1)\n",
    "X_imp <- DrImpute(X.log)\n",
    "\n",
    "gene_names = rownames(X_imp)"
   ]
  },
  {
   "cell_type": "code",
   "execution_count": null,
   "id": "4ae6ed32-03b0-4962-85b9-1316506a6ebd",
   "metadata": {},
   "outputs": [],
   "source": [
    "adata = adata[list(cell_names), list(gene_names)]\n",
    "adata.X = X_imp.T\n",
    "sc.pp.normalize_total(adata, target_sum=1e4)\n",
    "sc.pp.log1p(adata)\n",
    "adata.write(save_folder + \"concat_drimpute.h5ad\")\n",
    "adata"
   ]
  },
  {
   "cell_type": "code",
   "execution_count": null,
   "id": "f94f42e6-cb4f-4e91-9847-7b6dbc45518d",
   "metadata": {
    "scrolled": true,
    "tags": []
   },
   "outputs": [],
   "source": [
    "rna = pd.DataFrame(adata.X, columns=adata.var_names, index=adata.obs_names)\n",
    "top_2000 = pd.DataFrame(rna.var().sort_values(ascending=False)[:2000].index)\n",
    "top_2000.to_csv(save_folder + \"top2000.txt\", index=False, header=False)\n",
    "top_2000"
   ]
  },
  {
   "cell_type": "code",
   "execution_count": null,
   "id": "8a13d3cd-c1e8-4264-a35e-7cd4de485fd9",
   "metadata": {
    "tags": []
   },
   "outputs": [],
   "source": [
    "del adata"
   ]
  },
  {
   "cell_type": "markdown",
   "id": "42acacb6-2313-4130-8351-69ddf18759b0",
   "metadata": {
    "tags": []
   },
   "source": [
    "# cell type color mapping"
   ]
  },
  {
   "cell_type": "code",
   "execution_count": null,
   "id": "633c59ff-a5d9-4849-a4e4-ea86d0d6966c",
   "metadata": {
    "tags": []
   },
   "outputs": [],
   "source": [
    "cell_map_type = pd.read_csv(cell_map_type_path, sep=\",\", index_col=0)\n",
    "cell_types = sorted(list(set(cell_map_type[\"ClusterIdent\"])))\n",
    "print(\"number of cell types \", len(cell_types))"
   ]
  },
  {
   "cell_type": "code",
   "execution_count": null,
   "id": "ebd228cc-e6f5-4e75-979a-10d699a4bd43",
   "metadata": {
    "tags": []
   },
   "outputs": [],
   "source": [
    "# ref https://www.alanzucconi.com/2015/09/30/colour-sorting/\n",
    "colors = distinctipy.get_colors(len(cell_types), rng=0)\n",
    "distinctipy.color_swatch(colors, one_row=True)\n",
    "# sort the colors\n",
    "def step(r, g, b, repetitions=1):\n",
    "    lum = math.sqrt(0.241 * r + 0.691 * g + 0.068 * b)\n",
    "    h, s, v = colorsys.rgb_to_hsv(r, g, b)\n",
    "    h2 = int(h * repetitions)\n",
    "    lum2 = int(lum * repetitions)\n",
    "    v2 = int(v * repetitions)\n",
    "\n",
    "    if h2 % 2 == 1:\n",
    "        v2 = repetitions - v2\n",
    "        lum = repetitions - lum\n",
    "\n",
    "    return (h2, lum, v2)\n",
    "\n",
    "\n",
    "colors.sort(key=lambda x: step(x[0], x[1], x[2], 8))\n",
    "print(\"sorted colors\")\n",
    "distinctipy.color_swatch(colors, one_row=True)\n",
    "\n",
    "cell_map_color = pd.DataFrame(\n",
    "    list(zip(sorted(cell_types), colors)), columns=[\"cluster_type\", \"color\"]\n",
    ")\n",
    "cell_map_color = cell_map_color.set_index(\"cluster_type\")\n",
    "cell_map_color[\"color\"] = cell_map_color[\"color\"].apply(matplotlib.colors.rgb2hex)\n",
    "cell_map_color.color = cell_map_color.color.apply(lambda x: x.replace(\"#\", \"\"))\n",
    "pd.DataFrame(cell_map_color).reset_index().to_csv(\n",
    "    save_folder + \"celltype_map_color.txt\", sep=\"\\t\", header=True, index=True\n",
    ")"
   ]
  },
  {
   "cell_type": "markdown",
   "id": "6173399a-2778-4364-b5b9-1457704d83ca",
   "metadata": {
    "execution": {
     "iopub.execute_input": "2023-09-09T07:16:10.623365Z",
     "iopub.status.busy": "2023-09-09T07:16:10.623009Z",
     "iopub.status.idle": "2023-09-09T07:16:10.626525Z",
     "shell.execute_reply": "2023-09-09T07:16:10.625885Z",
     "shell.execute_reply.started": "2023-09-09T07:16:10.623347Z"
    }
   },
   "source": [
    "# Create Mutation profile:  Homing+Mito"
   ]
  },
  {
   "cell_type": "markdown",
   "id": "9973b3b5-cd83-49cc-92c4-a48b06ff1795",
   "metadata": {},
   "source": [
    "zero padded if any one of homing or mito is missing. This mutation profile is generated only for the cells common with rna"
   ]
  },
  {
   "cell_type": "code",
   "execution_count": null,
   "id": "855dcbbc-0a7e-4b74-a82e-a30d4b167166",
   "metadata": {
    "tags": []
   },
   "outputs": [],
   "source": [
    "# adata_rna = sc.read_h5ad(rna_path)\n",
    "annotations = pd.read_csv(cell_map_type_path, sep=\",\", index_col=0)\n",
    "print(\"number of cells\", len(set(annotations.index)))\n",
    "print(\"number of cell types\", len(set(annotations[\"ClusterIdent\"])))"
   ]
  },
  {
   "cell_type": "code",
   "execution_count": null,
   "id": "6b6cf042-70de-4b6b-bba6-540da4662250",
   "metadata": {
    "tags": []
   },
   "outputs": [],
   "source": [
    "mito = pd.read_csv(\"../input/mito_mut.txt\", sep=\"\\t\", index_col=0)\n",
    "mito = mito.loc[list(set(mito.index) & set(annotations.index))]\n",
    "mito.shape"
   ]
  },
  {
   "cell_type": "code",
   "execution_count": null,
   "id": "7bbbf8e5-88ff-4f8e-8e75-fde7a7178330",
   "metadata": {
    "tags": []
   },
   "outputs": [],
   "source": [
    "hbc = pd.read_csv(\"../input/hbc_mut.txt\", index_col=0, sep=\"\\t\")\n",
    "hbc = hbc.loc[list(set(hbc.index) & set(annotations.index))]\n",
    "hbc.shape"
   ]
  },
  {
   "cell_type": "code",
   "execution_count": null,
   "id": "39b23b48-d8ff-4590-9106-13337d11c924",
   "metadata": {
    "tags": []
   },
   "outputs": [],
   "source": [
    "print(\"homing and mitochondrial barcodes\", len(set(set(hbc.index) | set(mito.index))))"
   ]
  },
  {
   "cell_type": "code",
   "execution_count": null,
   "id": "bbe7e5a7-3100-4c7d-8be6-b46325c77d82",
   "metadata": {
    "tags": []
   },
   "outputs": [],
   "source": [
    "mutations = pd.concat([hbc, mito], axis=1, join=\"outer\")  # ,ignore_index=True)\n",
    "mutations = mutations.fillna(0)\n",
    "# mutations = mutations.astype(int)\n",
    "mutations = mutations.loc[:, mutations.sum() > 0]\n",
    "mutations = mutations.loc[\n",
    "    mutations.sum(axis=1) > 0,\n",
    "]\n",
    "mutations.shape"
   ]
  },
  {
   "cell_type": "code",
   "execution_count": null,
   "id": "c8c8eb52-a46f-4058-a92e-6db5fa5f2d4c",
   "metadata": {
    "tags": []
   },
   "outputs": [],
   "source": [
    "mutations_meta = annotations.loc[mutations.index]\n",
    "mutations_meta[\"annotation\"] = annotations[\"ClusterIdent\"].loc[mutations.index]\n",
    "mutations_meta[\"mutation_type\"] = \"hbc\"\n",
    "mutations_meta.loc[mito.index, \"mutation_type\"] = \"mito\"\n",
    "mutations_meta.loc[set(mito.index) & set(hbc.index), \"mutation_type\"] = \"hbc+mito\""
   ]
  },
  {
   "cell_type": "markdown",
   "id": "4bf9ae7c-489e-4cd5-a067-b19ba07fbfc9",
   "metadata": {},
   "source": [
    "# clustering the mutation profiles"
   ]
  },
  {
   "cell_type": "code",
   "execution_count": null,
   "id": "252582d7-b6b3-4e61-8e4a-b79828d4c2b3",
   "metadata": {
    "tags": []
   },
   "outputs": [],
   "source": [
    "adata_all = anndata.AnnData(mutations.astype(np.float32))\n",
    "adata_all.obs = mutations_meta\n",
    "sc.pp.pca(adata_all)\n",
    "sc.pp.neighbors(adata_all)\n",
    "sc.tl.umap(adata_all)\n",
    "for i in [0.01, 0.02, 0.03, 0.07, 0.1]:  # can have different resolutions\n",
    "    print(\"resolution : \", i)\n",
    "    sc.tl.leiden(adata_all, resolution=i)\n",
    "    sc.pl.umap(adata_all, color=\"leiden\")\n",
    "# sc.pl.umap(adata,color='annotation')"
   ]
  },
  {
   "cell_type": "code",
   "execution_count": null,
   "id": "e862fd2a-dcb3-4ca3-a6c7-03a4c83908a4",
   "metadata": {
    "tags": []
   },
   "outputs": [],
   "source": [
    "sc.pl.umap(adata_all, color=\"mutation_type\")"
   ]
  },
  {
   "cell_type": "code",
   "execution_count": null,
   "id": "da5011a4-337a-43a4-8bca-767ff3f2b721",
   "metadata": {
    "tags": []
   },
   "outputs": [],
   "source": [
    "# select the resolution that makes sense\n",
    "res = 0.01\n",
    "sc.tl.leiden(adata_all, resolution=res)\n",
    "print(\"number of cells \", adata_all.shape[0])\n",
    "print(\"cluster    number of cells\")\n",
    "print(adata_all.obs[\"leiden\"].value_counts())\n",
    "sc.pl.umap(adata_all, color=\"leiden\")"
   ]
  },
  {
   "cell_type": "code",
   "execution_count": null,
   "id": "834def9d-d5ef-457d-84c5-597dc2412818",
   "metadata": {
    "tags": []
   },
   "outputs": [],
   "source": [
    "adata_all.write(\"../input/hbc_mito.h5ad\")"
   ]
  },
  {
   "cell_type": "code",
   "execution_count": null,
   "id": "463e5dcb-edfd-46a4-b951-945273a39954",
   "metadata": {
    "tags": []
   },
   "outputs": [],
   "source": [
    "# adata = sc.read_h5ad(\"../input/hbc_mito.h5ad\")"
   ]
  },
  {
   "cell_type": "code",
   "execution_count": null,
   "id": "328ab0e3-73ab-4fee-8919-881fe1a16229",
   "metadata": {
    "tags": []
   },
   "outputs": [],
   "source": [
    "# print(np.unique(adata.obs[\"mutation_type\"], return_counts=True))\n",
    "# mutation_count_in_cluster = pd.DataFrame([], columns=[\"hbc\", \"hbc+mito\", \"mito\"])\n",
    "# mutation_count_in_cluster.index.name = \"cluster_no\"\n",
    "\n",
    "# for clus in sorted(np.unique(adata.obs[\"leiden\"]).astype(int)):\n",
    "#     cluster_data = adata.obs[adata.obs[\"leiden\"] == str(clus)]\n",
    "#     # print('cluster ',clus)\n",
    "#     temp = pd.Series(np.unique(cluster_data[\"mutation_type\"], return_counts=True))\n",
    "#     mutation_count_in_cluster.loc[clus, temp[0]] = temp[1]\n",
    "#     # print(pd.DataFrame(np.unique(cluster_data['mutation_type'],return_counts = True)))\n",
    "\n",
    "# mutation_color_map_dic = {\"mito\": \"red\", \"hbc\": \"green\", \"hbc+mito\": \"blue\"}\n",
    "# mutation_count_in_cluster.plot(kind=\"bar\", stacked=True, color=mutation_color_map_dic)"
   ]
  },
  {
   "cell_type": "markdown",
   "id": "5a39e9f2-356c-42d6-aee7-d0be7140c698",
   "metadata": {},
   "source": [
    "# Create Dataset"
   ]
  },
  {
   "cell_type": "code",
   "execution_count": null,
   "id": "5a12c4b8-97dd-4868-ae73-2393449ed231",
   "metadata": {
    "tags": []
   },
   "outputs": [],
   "source": [
    "top2000_path = save_folder + \"top2000.txt\"\n",
    "celltype_map_color_path = save_folder + \"celltype_map_color.txt\"\n",
    "drimpute_rna_path = save_folder + \"concat_drimpute.h5ad\""
   ]
  },
  {
   "cell_type": "code",
   "execution_count": null,
   "id": "33822e89-3a79-437d-8982-a6201b1b77b9",
   "metadata": {
    "tags": []
   },
   "outputs": [],
   "source": [
    "adata_rna = sc.read_h5ad(drimpute_rna_path)\n",
    "clusters = sorted(set(adata_all.obs[\"leiden\"].unique()))"
   ]
  },
  {
   "cell_type": "code",
   "execution_count": null,
   "id": "b2bae02a-7e79-4cc0-9f1c-b14a1ee76355",
   "metadata": {
    "tags": []
   },
   "outputs": [],
   "source": [
    "cwd = os.getcwd() + \"/\"\n",
    "cwd"
   ]
  },
  {
   "cell_type": "code",
   "execution_count": null,
   "id": "e510fdc2-bd94-4355-afa1-b2fa837a014c",
   "metadata": {
    "tags": []
   },
   "outputs": [],
   "source": [
    "for cluster in clusters:\n",
    "    print(\"creating input for cluster : {} ..\".format(cluster))\n",
    "    # create directories\n",
    "    if not os.path.exists(f\"{cwd}../sub_clusters/{cluster}/input/\"):\n",
    "        os.makedirs(f\"{cwd}../sub_clusters/{cluster}/input/\")\n",
    "        os.makedirs(f\"{cwd}../sub_clusters/{cluster}/output/\")\n",
    "\n",
    "    # get mutations\n",
    "    adata = adata_all[adata_all.obs[\"leiden\"] == cluster]\n",
    "    mutations = pd.DataFrame(\n",
    "        adata.X, index=adata.obs_names, columns=adata.var_names\n",
    "    ).astype(int)\n",
    "\n",
    "    mutations = mutations.loc[:, mutations.sum() > 1]\n",
    "    mutations = mutations.loc[mutations.sum(axis=1) > 0, :]\n",
    "\n",
    "    mutations = mutations.T\n",
    "    mutations = mutations.astype(int)\n",
    "    mutations = mutations.astype(str)\n",
    "\n",
    "    # get RNA\n",
    "    adata_rna_sub = adata_rna[mutations.columns, :]\n",
    "\n",
    "    # get annotations\n",
    "    # annotation = pd.read_csv(cell_map_type_path,sep='\\t',index_col = 0).loc[adata_rna_sub.obs_names]\n",
    "    # annotation.rename(columns = {'annotation':'ClusterIdent'}, inplace = True)\n",
    "\n",
    "    # mutation mapping\n",
    "    le = preprocessing.LabelEncoder()\n",
    "    le.fit(list(mutations.index))\n",
    "    le_name_mapping = list(zip(le.classes_, le.transform(le.classes_)))\n",
    "    pd.DataFrame(le_name_mapping).to_csv(\n",
    "        f\"{cwd}../sub_clusters/{cluster}/input/mutation_mapping.txt\",\n",
    "        sep=\"\\t\",\n",
    "        header=False,\n",
    "        index=False,\n",
    "    )\n",
    "\n",
    "    # cell - mutation string\n",
    "    for i in range(mutations.shape[0]):\n",
    "        for j in range(mutations.shape[1]):\n",
    "            if mutations.iloc[i][j] == \"0\":\n",
    "                mutations.iloc[i][j] = \"NONE\"\n",
    "            elif mutations.iloc[i][j] == \"1\":\n",
    "                mutations.iloc[i][j] = le.transform([mutations.index[i]])[0]\n",
    "            else:\n",
    "                print(mutations.iloc[i][j], \"error\")\n",
    "\n",
    "    mutations = mutations.astype(str).apply(\"-\".join, axis=0)\n",
    "    mutations = pd.DataFrame(mutations, columns=[\"HMID\"])\n",
    "\n",
    "    mutations.to_csv(\n",
    "        f\"{cwd}../sub_clusters/{cluster}/input/cell_mutation_mapping.txt\",\n",
    "        sep=\"\\t\",\n",
    "        header=False,\n",
    "        index=True,\n",
    "    )\n",
    "\n",
    "    # create litimat input format\n",
    "    rna_data = pd.DataFrame(\n",
    "        adata_rna_sub.X, index=adata_rna_sub.obs_names, columns=adata_rna_sub.var_names\n",
    "    )\n",
    "    lintimat_format = pd.concat(\n",
    "        [annotations, mutations, rna_data], axis=1, join=\"inner\"\n",
    "    )\n",
    "    clusters_to_numbers = pd.DataFrame(\n",
    "        enumerate(lintimat_format[\"ClusterIdent\"].astype(\"category\").cat.categories)\n",
    "    )\n",
    "    lintimat_format[\"ClusterIdent\"] = (\n",
    "        lintimat_format[\"ClusterIdent\"].astype(\"category\").cat.codes\n",
    "    )\n",
    "\n",
    "    lintimat_format.to_csv(\n",
    "        f\"{cwd}../sub_clusters/{cluster}/input/Data_matrix_Comb_final2_for_lintimat.txt\",\n",
    "        sep=\"\\t\",\n",
    "    )\n",
    "    clusters_to_numbers.to_csv(\n",
    "        f\"{cwd}../sub_clusters/{cluster}/input/lintimat_cell_type_map.txt\",\n",
    "        sep=\"\\t\",\n",
    "        index=False,\n",
    "        header=False,\n",
    "    )\n",
    "    lintimat_format.iloc[:, :2].to_csv(\n",
    "        f\"{cwd}../sub_clusters/{cluster}/input/lintimat_txt_label_HMID.txt\", sep=\"\\t\"\n",
    "    )\n",
    "    shutil.copy2(top2000_path, f\"{cwd}../sub_clusters/{cluster}/input/\")\n",
    "    shutil.copy2(celltype_map_color_path, f\"{cwd}../sub_clusters/{cluster}/input/\")\n",
    "\n",
    "    del adata\n",
    "    del adata_rna_sub"
   ]
  },
  {
   "cell_type": "code",
   "execution_count": null,
   "id": "078ee106-2b87-4305-8199-22921f4ae16c",
   "metadata": {
    "scrolled": true,
    "tags": []
   },
   "outputs": [],
   "source": [
    "path = \"../sub_clusters/\"\n",
    "for cluster in clusters:\n",
    "    print(\"running lintimat for {}\".format(cluster))\n",
    "    os.system(\"date >  \" + path + cluster + \"/output/terminal_output.txt\")\n",
    "    os.system(\n",
    "        \"java -jar ../code/LinTIMaT.jar -i \" + path + cluster + \"/input/Data_matrix_Comb_final2_for_lintimat.txt\\\n",
    "        -gf \" + path  + cluster  + \"/input/top2000.txt \\\n",
    "        -gc 2000 \\\n",
    "        -ob \" + path + cluster  + \"/output/bin_tree.newick \\\n",
    "        -on \" + path + cluster+ \"/output/nonbinary_tree.txt \\\n",
    "         -mi 200000 -ci 0 -s 9126 >> \"+ path+ cluster+ \"/output/terminal_output.txt\"\n",
    "    )\n",
    "\n",
    "    os.system(\"date >> \" + path + cluster + \"/output/terminal_output.txt\")"
   ]
  },
  {
   "cell_type": "code",
   "execution_count": null,
   "id": "6d70b303-14ca-425d-a2bf-b6df71579e59",
   "metadata": {},
   "outputs": [],
   "source": []
  }
 ],
 "metadata": {
  "kernelspec": {
   "display_name": "Python 3 (ipykernel)",
   "language": "python",
   "name": "python3"
  },
  "language_info": {
   "codemirror_mode": {
    "name": "ipython",
    "version": 3
   },
   "file_extension": ".py",
   "mimetype": "text/x-python",
   "name": "python",
   "nbconvert_exporter": "python",
   "pygments_lexer": "ipython3",
   "version": "3.7.11"
  }
 },
 "nbformat": 4,
 "nbformat_minor": 5
}
